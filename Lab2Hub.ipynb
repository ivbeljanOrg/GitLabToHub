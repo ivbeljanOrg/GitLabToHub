{
 "cells": [
  {
   "cell_type": "code",
   "execution_count": 2,
   "metadata": {},
   "outputs": [
    {
     "name": "stdout",
     "output_type": "stream",
     "text": [
      "Requirement already satisfied: requests in c:\\gitlabtohub\\.venv\\lib\\site-packages (2.32.3)\n",
      "Requirement already satisfied: charset-normalizer<4,>=2 in c:\\gitlabtohub\\.venv\\lib\\site-packages (from requests) (3.3.2)\n",
      "Requirement already satisfied: idna<4,>=2.5 in c:\\gitlabtohub\\.venv\\lib\\site-packages (from requests) (3.10)\n",
      "Requirement already satisfied: urllib3<3,>=1.21.1 in c:\\gitlabtohub\\.venv\\lib\\site-packages (from requests) (2.2.3)\n",
      "Requirement already satisfied: certifi>=2017.4.17 in c:\\gitlabtohub\\.venv\\lib\\site-packages (from requests) (2024.8.30)\n",
      "Note: you may need to restart the kernel to use updated packages.\n"
     ]
    },
    {
     "name": "stderr",
     "output_type": "stream",
     "text": [
      "\n",
      "[notice] A new release of pip is available: 24.2 -> 24.3.1\n",
      "[notice] To update, run: python.exe -m pip install --upgrade pip\n"
     ]
    },
    {
     "name": "stdout",
     "output_type": "stream",
     "text": [
      "Requirement already satisfied: PyGithub in c:\\gitlabtohub\\.venv\\lib\\site-packages (2.4.0)\n",
      "Requirement already satisfied: pynacl>=1.4.0 in c:\\gitlabtohub\\.venv\\lib\\site-packages (from PyGithub) (1.5.0)\n",
      "Requirement already satisfied: requests>=2.14.0 in c:\\gitlabtohub\\.venv\\lib\\site-packages (from PyGithub) (2.32.3)\n",
      "Requirement already satisfied: pyjwt>=2.4.0 in c:\\gitlabtohub\\.venv\\lib\\site-packages (from pyjwt[crypto]>=2.4.0->PyGithub) (2.9.0)\n",
      "Requirement already satisfied: typing-extensions>=4.0.0 in c:\\gitlabtohub\\.venv\\lib\\site-packages (from PyGithub) (4.12.2)\n",
      "Requirement already satisfied: urllib3>=1.26.0 in c:\\gitlabtohub\\.venv\\lib\\site-packages (from PyGithub) (2.2.3)\n",
      "Requirement already satisfied: Deprecated in c:\\gitlabtohub\\.venv\\lib\\site-packages (from PyGithub) (1.2.14)\n",
      "Requirement already satisfied: cryptography>=3.4.0 in c:\\gitlabtohub\\.venv\\lib\\site-packages (from pyjwt[crypto]>=2.4.0->PyGithub) (43.0.1)\n",
      "Requirement already satisfied: cffi>=1.4.1 in c:\\gitlabtohub\\.venv\\lib\\site-packages (from pynacl>=1.4.0->PyGithub) (1.17.1)\n",
      "Requirement already satisfied: charset-normalizer<4,>=2 in c:\\gitlabtohub\\.venv\\lib\\site-packages (from requests>=2.14.0->PyGithub) (3.3.2)\n",
      "Requirement already satisfied: idna<4,>=2.5 in c:\\gitlabtohub\\.venv\\lib\\site-packages (from requests>=2.14.0->PyGithub) (3.10)\n",
      "Requirement already satisfied: certifi>=2017.4.17 in c:\\gitlabtohub\\.venv\\lib\\site-packages (from requests>=2.14.0->PyGithub) (2024.8.30)\n",
      "Requirement already satisfied: wrapt<2,>=1.10 in c:\\gitlabtohub\\.venv\\lib\\site-packages (from Deprecated->PyGithub) (1.16.0)\n",
      "Requirement already satisfied: pycparser in c:\\gitlabtohub\\.venv\\lib\\site-packages (from cffi>=1.4.1->pynacl>=1.4.0->PyGithub) (2.22)\n",
      "Note: you may need to restart the kernel to use updated packages.\n"
     ]
    },
    {
     "name": "stderr",
     "output_type": "stream",
     "text": [
      "\n",
      "[notice] A new release of pip is available: 24.2 -> 24.3.1\n",
      "[notice] To update, run: python.exe -m pip install --upgrade pip\n"
     ]
    },
    {
     "name": "stdout",
     "output_type": "stream",
     "text": [
      "Requirement already satisfied: python-gitlab in c:\\gitlabtohub\\.venv\\lib\\site-packages (4.12.2)\n",
      "Requirement already satisfied: requests>=2.32.0 in c:\\gitlabtohub\\.venv\\lib\\site-packages (from python-gitlab) (2.32.3)\n",
      "Requirement already satisfied: requests-toolbelt>=1.0.0 in c:\\gitlabtohub\\.venv\\lib\\site-packages (from python-gitlab) (1.0.0)\n",
      "Requirement already satisfied: charset-normalizer<4,>=2 in c:\\gitlabtohub\\.venv\\lib\\site-packages (from requests>=2.32.0->python-gitlab) (3.3.2)\n",
      "Requirement already satisfied: idna<4,>=2.5 in c:\\gitlabtohub\\.venv\\lib\\site-packages (from requests>=2.32.0->python-gitlab) (3.10)\n",
      "Requirement already satisfied: urllib3<3,>=1.21.1 in c:\\gitlabtohub\\.venv\\lib\\site-packages (from requests>=2.32.0->python-gitlab) (2.2.3)\n",
      "Requirement already satisfied: certifi>=2017.4.17 in c:\\gitlabtohub\\.venv\\lib\\site-packages (from requests>=2.32.0->python-gitlab) (2024.8.30)\n",
      "Note: you may need to restart the kernel to use updated packages.\n"
     ]
    },
    {
     "name": "stderr",
     "output_type": "stream",
     "text": [
      "\n",
      "[notice] A new release of pip is available: 24.2 -> 24.3.1\n",
      "[notice] To update, run: python.exe -m pip install --upgrade pip\n"
     ]
    },
    {
     "name": "stdout",
     "output_type": "stream",
     "text": [
      "Requirement already satisfied: gitpython in c:\\gitlabtohub\\.venv\\lib\\site-packages (3.1.43)\n",
      "Requirement already satisfied: gitdb<5,>=4.0.1 in c:\\gitlabtohub\\.venv\\lib\\site-packages (from gitpython) (4.0.11)\n",
      "Requirement already satisfied: smmap<6,>=3.0.1 in c:\\gitlabtohub\\.venv\\lib\\site-packages (from gitdb<5,>=4.0.1->gitpython) (5.0.1)\n",
      "Note: you may need to restart the kernel to use updated packages.\n"
     ]
    },
    {
     "name": "stderr",
     "output_type": "stream",
     "text": [
      "\n",
      "[notice] A new release of pip is available: 24.2 -> 24.3.1\n",
      "[notice] To update, run: python.exe -m pip install --upgrade pip\n"
     ]
    },
    {
     "name": "stdout",
     "output_type": "stream",
     "text": [
      "Requirement already satisfied: python-dotenv in c:\\gitlabtohub\\.venv\\lib\\site-packages (1.0.1)\n",
      "Note: you may need to restart the kernel to use updated packages.\n"
     ]
    },
    {
     "name": "stderr",
     "output_type": "stream",
     "text": [
      "\n",
      "[notice] A new release of pip is available: 24.2 -> 24.3.1\n",
      "[notice] To update, run: python.exe -m pip install --upgrade pip\n"
     ]
    }
   ],
   "source": [
    "%pip install requests\n",
    "%pip install PyGithub\n",
    "%pip install python-gitlab\n",
    "%pip install gitpython\n",
    "%pip install python-dotenv"
   ]
  },
  {
   "cell_type": "code",
   "execution_count": null,
   "metadata": {},
   "outputs": [],
   "source": [
    "import requests\n",
    "from github import Github\n",
    "from gitlab import Gitlab\n",
    "from dotenv import load_dotenv\n",
    "import os\n",
    "\n",
    "load_dotenv()\n",
    "# Configuration\n",
    "GITLAB_URL = os.getenv('GITLAB_URL')\n",
    "GITLAB_TOKEN = os.getenv('GITLAB_TOKEN')\n",
    "GITHUB_TOKEN = os.getenv('GITHUB_TOKEN')\n",
    "GITLAB_PROJECT_ID = os.getenv('GITLAB_PROJECT_ID')\n",
    "GUTHUB_ORG_NAME = os.getenv('GUTHUB_ORG_NAME')\n",
    "GITHUB_REPO_NAME = os.getenv('GITHUB_REPO_NAME')\n",
    "\n",
    "print(f\"GITLAB_URL: {GITLAB_URL}\")\n",
    "print(f\"GITLAB_TOKEN: {GITLAB_TOKEN}\")\n",
    "print(f\"GITHUB_TOKEN: {GITHUB_TOKEN}\")\n",
    "print(f\"GITLAB_PROJECT_ID: {GITLAB_PROJECT_ID}\")\n",
    "print(f\"GUTHUB_ORG_NAME: {GUTHUB_ORG_NAME}\")\n",
    "print(f\"GITHUB_REPO_NAME: {GITHUB_REPO_NAME}\")\n",
    "\n"
   ]
  },
  {
   "cell_type": "code",
   "execution_count": null,
   "metadata": {},
   "outputs": [],
   "source": [
    "\n",
    "\n",
    "\n",
    "# Initialize GitLab and GitHub clients\n",
    "gitlab_client = Gitlab(GITLAB_URL, private_token=GITLAB_TOKEN)\n",
    "github_client = Github(GITHUB_TOKEN)\n",
    "# Get GitLab project\n",
    "gitlab_project = gitlab_client.projects.get(GITLAB_PROJECT_ID)\n",
    "\n",
    "# Create GitHub repository\n",
    "user = github_client.get_user()\n"
   ]
  },
  {
   "cell_type": "code",
   "execution_count": null,
   "metadata": {},
   "outputs": [
    {
     "name": "stdout",
     "output_type": "stream",
     "text": [
      "Repository mynetcoreproject does not exist or could not be deleted: 404 {\"message\": \"Not Found\", \"documentation_url\": \"https://docs.github.com/rest/repos/repos#get-a-repository\", \"status\": \"404\"}\n"
     ]
    }
   ],
   "source": [
    "# Check if the repository already exists and delete it if it does\n",
    "try:\n",
    "    github_repo = github_client.get_repo(f\"{GUTHUB_ORG_NAME}/{GITHUB_REPO_NAME}\")\n",
    "    github_repo.delete()\n",
    "    print(f\"Deleted existing repository: {GITHUB_REPO_NAME}\")\n",
    "except Exception as e:\n",
    "    print(f\"Repository {GITHUB_REPO_NAME} does not exist or could not be deleted: {e}\")\n",
    "\n",
    "# Create a new GitHub repository\n",
    "org = github_client.get_organization(GUTHUB_ORG_NAME)\n",
    "github_repo = org.create_repo(GITHUB_REPO_NAME, private=True)\n",
    "#github_repo = user.create_repo(GITHUB_REPO_NAME, private=True)\n",
    "repo_url = gitlab_project.http_url_to_repo.replace('https://', f'https://oauth2:{GITLAB_TOKEN}@')\n"
   ]
  },
  {
   "cell_type": "code",
   "execution_count": null,
   "metadata": {},
   "outputs": [
    {
     "name": "stdout",
     "output_type": "stream",
     "text": [
      "Repository content migrated successfully.\n"
     ]
    }
   ],
   "source": [
    "import os\n",
    "from git import Repo\n",
    "\n",
    "\n",
    "# Migrate repository content\n",
    "# Clone the GitLab repository\n",
    "repo_name = GITLAB_PROJECT_ID.split('/')[-1]\n",
    "if not os.path.exists(repo_name):\n",
    "    Repo.clone_from(repo_url, repo_name, mirror=True)\n",
    "\n",
    "\n",
    "# Push the repository to GitHub\n",
    "github_repo_url = f'https://{GITHUB_TOKEN}@github.com/{GUTHUB_ORG_NAME}/{GITHUB_REPO_NAME}.git'\n",
    "repo = Repo(repo_name)\n",
    "repo.remotes.origin.set_url(github_repo_url)\n",
    "repo.remotes.origin.push(mirror=True)\n",
    "\n",
    "print(\"Repository content migrated successfully.\")\n"
   ]
  },
  {
   "cell_type": "code",
   "execution_count": null,
   "metadata": {},
   "outputs": [],
   "source": [
    "# Migrate open pull requests  \n",
    "import json  \n",
    "merge_requests = gitlab_project.mergerequests.list()  \n",
    "for mr in merge_requests:\n",
    "    print(f\"Merge Request ID: {mr.id}, Title: {mr.title}, State: {mr.state}\")\n",
    "\n",
    "    # Check if the merge request is a draft\n",
    "    if mr.work_in_progress:\n",
    "        print(f\"Merge Request ID: {mr.id} is a draft.\")\n",
    "    else:\n",
    "        print(f\"Merge Request ID: {mr.id} is not a draft.\")\n"
   ]
  },
  {
   "cell_type": "code",
   "execution_count": null,
   "metadata": {},
   "outputs": [
    {
     "name": "stdout",
     "output_type": "stream",
     "text": [
      "Updated existing pull request: https://github.com/ivbeljanOrg/mynetcoreproject/pull/1\n",
      "evo njizi\n"
     ]
    },
    {
     "ename": "AttributeError",
     "evalue": "'ProjectMergeRequestDiscussion' object has no attribute 'awardemojis'\n\n<class 'gitlab.v4.objects.discussions.ProjectMergeRequestDiscussion'>\nwas created via a list() call and only a subset of the data may be\npresent. To ensure all data is present get the object using a\nget(object.id) call. For more details, see:\n\nhttps://python-gitlab.readthedocs.io/en/v4.12.2/faq.html#attribute-error-list",
     "output_type": "error",
     "traceback": [
      "\u001b[1;31m---------------------------------------------------------------------------\u001b[0m",
      "\u001b[1;31mAttributeError\u001b[0m                            Traceback (most recent call last)",
      "Cell \u001b[1;32mIn[61], line 58\u001b[0m\n\u001b[0;32m     56\u001b[0m \u001b[38;5;28;01mfor\u001b[39;00m discussion \u001b[38;5;129;01min\u001b[39;00m discussions:  \n\u001b[0;32m     57\u001b[0m     \u001b[38;5;28mprint\u001b[39m(\u001b[38;5;124m\"\u001b[39m\u001b[38;5;124mevo njizi\u001b[39m\u001b[38;5;124m\"\u001b[39m)\n\u001b[1;32m---> 58\u001b[0m     emojis \u001b[38;5;241m=\u001b[39m \u001b[43mdiscussion\u001b[49m\u001b[38;5;241;43m.\u001b[39;49m\u001b[43mawardemojis\u001b[49m\u001b[38;5;241m.\u001b[39mlist()\n\u001b[0;32m     59\u001b[0m     \u001b[38;5;28;01mfor\u001b[39;00m emoji \u001b[38;5;129;01min\u001b[39;00m emojis:\n\u001b[0;32m     60\u001b[0m         \u001b[38;5;28mprint\u001b[39m(\u001b[38;5;124mf\u001b[39m\u001b[38;5;124m\"\u001b[39m\u001b[38;5;124mEmoji: \u001b[39m\u001b[38;5;132;01m{\u001b[39;00memoji\u001b[38;5;241m.\u001b[39mname\u001b[38;5;132;01m}\u001b[39;00m\u001b[38;5;124m, by \u001b[39m\u001b[38;5;132;01m{\u001b[39;00memoji\u001b[38;5;241m.\u001b[39muser[\u001b[38;5;124m'\u001b[39m\u001b[38;5;124musername\u001b[39m\u001b[38;5;124m'\u001b[39m]\u001b[38;5;132;01m}\u001b[39;00m\u001b[38;5;124m\"\u001b[39m)\n",
      "File \u001b[1;32mc:\\GitLabToHub\\.venv\\Lib\\site-packages\\gitlab\\base.py:134\u001b[0m, in \u001b[0;36mRESTObject.__getattr__\u001b[1;34m(self, name)\u001b[0m\n\u001b[0;32m    128\u001b[0m \u001b[38;5;28;01melif\u001b[39;00m \u001b[38;5;28mself\u001b[39m\u001b[38;5;241m.\u001b[39m_lazy:\n\u001b[0;32m    129\u001b[0m     message \u001b[38;5;241m=\u001b[39m \u001b[38;5;124mf\u001b[39m\u001b[38;5;124m\"\u001b[39m\u001b[38;5;132;01m{\u001b[39;00mmessage\u001b[38;5;132;01m}\u001b[39;00m\u001b[38;5;130;01m\\n\u001b[39;00m\u001b[38;5;130;01m\\n\u001b[39;00m\u001b[38;5;124m\"\u001b[39m \u001b[38;5;241m+\u001b[39m textwrap\u001b[38;5;241m.\u001b[39mfill(\n\u001b[0;32m    130\u001b[0m         \u001b[38;5;124mf\u001b[39m\u001b[38;5;124m\"\u001b[39m\u001b[38;5;124mIf you tried to access object attributes returned from the server, \u001b[39m\u001b[38;5;124m\"\u001b[39m\n\u001b[0;32m    131\u001b[0m         \u001b[38;5;124mf\u001b[39m\u001b[38;5;124m\"\u001b[39m\u001b[38;5;124mnote that \u001b[39m\u001b[38;5;132;01m{\u001b[39;00m\u001b[38;5;28mself\u001b[39m\u001b[38;5;241m.\u001b[39m\u001b[38;5;18m__class__\u001b[39m\u001b[38;5;132;01m!r}\u001b[39;00m\u001b[38;5;124m was created as a `lazy` object and was \u001b[39m\u001b[38;5;124m\"\u001b[39m\n\u001b[0;32m    132\u001b[0m         \u001b[38;5;124mf\u001b[39m\u001b[38;5;124m\"\u001b[39m\u001b[38;5;124mnot initialized with any data.\u001b[39m\u001b[38;5;124m\"\u001b[39m\n\u001b[0;32m    133\u001b[0m     )\n\u001b[1;32m--> 134\u001b[0m \u001b[38;5;28;01mraise\u001b[39;00m \u001b[38;5;167;01mAttributeError\u001b[39;00m(message)\n",
      "\u001b[1;31mAttributeError\u001b[0m: 'ProjectMergeRequestDiscussion' object has no attribute 'awardemojis'\n\n<class 'gitlab.v4.objects.discussions.ProjectMergeRequestDiscussion'>\nwas created via a list() call and only a subset of the data may be\npresent. To ensure all data is present get the object using a\nget(object.id) call. For more details, see:\n\nhttps://python-gitlab.readthedocs.io/en/v4.12.2/faq.html#attribute-error-list"
     ]
    }
   ],
   "source": [
    "\n",
    "  \n",
    "with open('usermapping.json', 'r') as file:  \n",
    "    username_mapping = json.load(file)  \n",
    "\n",
    "for mr in merge_requests: \n",
    "    # Get the author email from the merge request  \n",
    "    githubuser = username_mapping.get(mr.author['username'])  \n",
    "    # Load GitHub tokens from the file\n",
    "    with open('githubtokens.json', 'r') as token_file:\n",
    "        github_tokens = json.load(token_file)\n",
    "    \n",
    "    # Get the token for the mapped GitHub user\n",
    "    user_token = github_tokens.get(githubuser)\n",
    "    \n",
    "    if not user_token:\n",
    "        print(f\"No token found for GitHub user: {githubuser}\")\n",
    "        continue\n",
    "    \n",
    "    #print(f\"For GitHub user: {githubuser} using {user_token}\")\n",
    "    # Initialize a new GitHub client with the user token\n",
    "    user_github_client = Github(user_token)\n",
    "    \n",
    "    user_github_repo = user_github_client.get_repo(f\"{GITHUB_ORG_NAME}/{GITHUB_REPO_NAME}\")\n",
    "        \n",
    "    # Check if the pull request already exists  \n",
    "    existing_prs = user_github_repo.get_pulls(state='open', head=f\"{user_github_repo.owner.login}:{mr.source_branch}\", base=mr.target_branch)  \n",
    "    if existing_prs.totalCount > 0:  \n",
    "        user_github_pr = existing_prs[0]  \n",
    "        user_github_pr.edit(title=mr.title, body=mr.description)  \n",
    "        print(f\"Updated existing pull request: {user_github_pr.html_url}\")  \n",
    "    else:  \n",
    "        # Create the pull request on GitHub  \n",
    "        try:  \n",
    "            user_github_pr = user_github_repo.create_pull(  \n",
    "                title=mr.title,  \n",
    "                body=mr.description,  \n",
    "                head=f\"{user_github_repo.owner.login}:{mr.source_branch}\",  \n",
    "                base=mr.target_branch,  \n",
    "                maintainer_can_modify=True  \n",
    "            )  \n",
    "            print(f\"Created new pull request: {user_github_pr.html_url}\")  \n",
    "        except Exception as e:  \n",
    "            print(f\"Error creating pull request: {e}\")  \n",
    "            if mr.state in ['closed', 'merged']:\n",
    "                # Create a dummy commit in the source branch\n",
    "                dummy_commit_message = \"Dummy commit to trigger PR creation\"\n",
    "                dummy_commit = user_github_repo.create_file(\n",
    "                    path=\"dummy_file.txt\",\n",
    "                    message=dummy_commit_message,\n",
    "                    content=\"This is a dummy commit.\",\n",
    "                    branch=mr.source_branch\n",
    "                )\n",
    "                print(f\"Created dummy commit: {dummy_commit['commit'].sha}\")\n",
    "                try:\n",
    "                    user_github_pr = user_github_repo.create_pull(  \n",
    "                        title=mr.title,  \n",
    "                        body=mr.description,  \n",
    "                        head=f\"{user_github_repo.owner.login}:{mr.source_branch}\",  \n",
    "                        base=mr.target_branch,  \n",
    "                        maintainer_can_modify=True  \n",
    "                    )  \n",
    "                    print(f\"Created new pull request after dummy commit: {user_github_pr.html_url}\")  \n",
    "                except Exception as e:\n",
    "                    print(f\"Error creating pull request after dummy commit: {e}\")\n",
    "            continue  # Skip this merge request if pull request creation fails  \n",
    "  \n",
    "    # Migrate comments\n",
    "    \n",
    "    discussions = mr.discussions.list()  \n",
    "\n",
    "    # Sort discussions by date created\n",
    "    discussions.sort(key=lambda d: d.attributes['notes'][0]['created_at'])\n",
    "    \n",
    "    # Order discussions by date created\n",
    "    for discussion in discussions:  \n",
    "        \n",
    "        # Select the first note in the discussion, the one with the lowest id\n",
    "        first_note = min(discussion.attributes['notes'], key=lambda n: n['id'])\n",
    "        #print(first_note)\n",
    "         \n",
    "        #for emoji in award_emojis:  \n",
    "            #print(f\"{emoji.name} by {emoji.user['username']}\")\n",
    "        first_note_author_name = first_note[\"author\"]['name']  \n",
    "        first_note_author_username = first_note[\"author\"]['username']  \n",
    "        first_note_comment_body = first_note['body'] \n",
    "        first_note_github_user = username_mapping.get(first_note_author_username)\n",
    "        \n",
    "        #print(first_note_comment_body)\n",
    "        with open('githubtokens.json', 'r') as token_file:\n",
    "                github_tokens = json.load(token_file)\n",
    "\n",
    "                # Get the token for the mapped GitHub user\n",
    "        first_note_user_token = github_tokens.get(first_note_github_user)\n",
    "        first_note_user_github_client = Github(first_note_user_token)\n",
    "        first_note_user_github_repo = first_note_user_github_client.get_repo(f\"{GITHUB_ORG_NAME}/{GITHUB_REPO_NAME}\")\n",
    "        first_note_user_github_pr = first_note_user_github_repo.get_pull(user_github_pr.number)\n",
    "        if(first_note['type'] == 'DiscussionNote'):\n",
    "            print(f'processing note: {first_note_comment_body} as DiscussionNote')\n",
    "            comment = first_note_user_github_pr.create_issue_comment(first_note_comment_body)    \n",
    "\n",
    "            # Create a list of notes excluding the first note\n",
    "            remaining_notes = sorted([note for note in discussion.attributes['notes'] if note['id'] != first_note['id']], key=lambda n: n['id'])\n",
    "            #print(first_note['type'])\n",
    "            for note in remaining_notes:  \n",
    "\n",
    "                # Get the GitHub username for the note author\n",
    "                author_name = note[\"author\"]['name']  \n",
    "                author_username = note[\"author\"]['username']  \n",
    "                comment_body = note['body'] \n",
    "                note_github_user = username_mapping.get(author_username)\n",
    "\n",
    "                # Load GitHub tokens from the file\n",
    "                with open('githubtokens.json', 'r') as token_file:\n",
    "                    github_tokens = json.load(token_file)\n",
    "\n",
    "                # Get the token for the mapped GitHub user\n",
    "                note_user_token = github_tokens.get(note_github_user)\n",
    "\n",
    "                if not note_user_token:\n",
    "                    print(f\"No token found for GitHub user: {note_github_user}\")\n",
    "                    continue\n",
    "\n",
    "                # Initialize a new GitHub client with the user token\n",
    "                \n",
    "                note_user_github_client = Github(note_user_token)\n",
    "                note_user_github_repo = note_user_github_client.get_repo(f\"{GITHUB_ORG_NAME}/{GITHUB_REPO_NAME}\")\n",
    "                note_user_github_pr = note_user_github_repo.get_pull(user_github_pr.number)\n",
    "\n",
    "                #comment = note_user_github_pr.create_issue_comment(f\"{author_name} ({author_username}): {comment_body}\")    \n",
    "                # Reply to the first note comment\n",
    "                reply_body = f\"> {first_note_comment_body} \\n\\n {comment_body}\"\n",
    "                reply_comment = note_user_github_pr.create_issue_comment(body=reply_body)\n",
    "        elif first_note['type'] == 'DiffNote':\n",
    "            print(f'processing note: {first_note_comment_body} as Diffnote')\n",
    "            path = first_note['position']['new_path']\n",
    "            position = first_note['position']['new_line']\n",
    "            comment_body = first_note['body']  \n",
    "            commit_id = first_note['position']['head_sha']\n",
    "            path = first_note['position']['old_path'] \n",
    "            commit = first_note_user_github_repo.get_commit(commit_id)\n",
    "            comment = first_note_user_github_pr.create_review_comment(\n",
    "                body=comment_body,\n",
    "                commit=commit,\n",
    "                path=path,\n",
    "                line=first_note['position']['new_line'],\n",
    "                #side='RIGHT'\n",
    "            ) \n",
    "            remaining_diff_notes = sorted([note for note in discussion.attributes['notes'] if note['id'] != first_note['id']], key=lambda n: n['id'])\n",
    "            #print(first_note['type'])\n",
    "            for diff_note in remaining_diff_notes:  \n",
    "                author_name = diff_note[\"author\"]['name']  \n",
    "                author_username = diff_note[\"author\"]['username']  \n",
    "                comment_body = diff_note['body'] \n",
    "                note_github_user = username_mapping.get(author_username)\n",
    "\n",
    "                # Load GitHub tokens from the file\n",
    "                with open('githubtokens.json', 'r') as token_file:\n",
    "                    github_tokens = json.load(token_file)\n",
    "\n",
    "                # Get the token for the mapped GitHub user\n",
    "                note_user_token = github_tokens.get(note_github_user)\n",
    "\n",
    "                if not note_user_token:\n",
    "                    print(f\"No token found for GitHub user: {note_github_user}\")\n",
    "                    continue\n",
    "\n",
    "                note_user_github_client = Github(note_user_token)\n",
    "                note_user_github_repo = note_user_github_client.get_repo(f\"{GITHUB_ORG_NAME}/{GITHUB_REPO_NAME}\")\n",
    "                note_user_github_pr = note_user_github_repo.get_pull(user_github_pr.number)\n",
    "                note_user_github_pr.create_review_comment_reply(comment.id, diff_note['body'])\n",
    "        elif first_note['type'] is None:\n",
    "            print(f'processing note: {first_note_comment_body} as None')\n",
    "            comment_body = first_note['body']  \n",
    "            comment = first_note_user_github_pr.create_issue_comment(comment_body)\n",
    "        \n",
    "    # Map GitLab merge request state to GitHub pull request state\n",
    "    state_mapping = {\n",
    "        'opened': 'open',\n",
    "        'closed': 'closed',\n",
    "        'merged': 'closed'\n",
    "    }\n",
    "\n",
    "    # Update the state of the pull request on GitHub\n",
    "    github_pr_state = state_mapping.get(mr.state, 'open')\n",
    "    print(f\"GitLab Merge Request State: {mr.state}, GitHub Pull Request State: {github_pr_state}\")\n",
    "    if user_github_pr.state != github_pr_state:\n",
    "        user_github_pr.edit(state=github_pr_state)\n",
    "        print(f\"Updated pull request state to: {github_pr_state}\")"
   ]
  },
  {
   "cell_type": "code",
   "execution_count": null,
   "metadata": {},
   "outputs": [],
   "source": []
  },
  {
   "cell_type": "code",
   "execution_count": 8,
   "metadata": {},
   "outputs": [
    {
     "name": "stdout",
     "output_type": "stream",
     "text": [
      "All comments deleted successfully.\n",
      "Deleted review comment with ID: 1839967950\n",
      "Deleted review comment with ID: 1839968047\n",
      "All review comments deleted successfully.\n"
     ]
    }
   ],
   "source": [
    "# Delete all comments from the GitHub pull request\n",
    "comments = user_github_pr.get_issue_comments()\n",
    "for comment in comments:\n",
    "    comment.delete()\n",
    "    print(f\"Deleted comment with ID: {comment.id}\")\n",
    "\n",
    "print(\"All comments deleted successfully.\")\n",
    "# Delete all review comments from the GitHub pull request\n",
    "review_comments = user_github_pr.get_review_comments()\n",
    "for review_comment in review_comments:\n",
    "    review_comment.delete()\n",
    "    print(f\"Deleted review comment with ID: {review_comment.id}\")\n",
    "\n",
    "print(\"All review comments deleted successfully.\")"
   ]
  },
  {
   "cell_type": "code",
   "execution_count": 9,
   "metadata": {},
   "outputs": [
    {
     "name": "stdout",
     "output_type": "stream",
     "text": [
      "Pull request 1 closed successfully.\n"
     ]
    }
   ],
   "source": [
    "# Delete the pull request\n",
    "try:\n",
    "    user_github_pr.edit(state='closed')\n",
    "    print(f\"Pull request {user_github_pr.number} closed successfully.\")\n",
    "except Exception as e:\n",
    "    print(f\"Error closing pull request: {e}\")"
   ]
  }
 ],
 "metadata": {
  "kernelspec": {
   "display_name": ".venv",
   "language": "python",
   "name": "python3"
  },
  "language_info": {
   "codemirror_mode": {
    "name": "ipython",
    "version": 3
   },
   "file_extension": ".py",
   "mimetype": "text/x-python",
   "name": "python",
   "nbconvert_exporter": "python",
   "pygments_lexer": "ipython3",
   "version": "3.11.9"
  }
 },
 "nbformat": 4,
 "nbformat_minor": 2
}
