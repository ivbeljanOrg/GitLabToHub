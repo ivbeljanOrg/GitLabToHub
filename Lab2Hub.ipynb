{
 "cells": [
  {
   "cell_type": "code",
   "execution_count": 76,
   "metadata": {},
   "outputs": [
    {
     "name": "stdout",
     "output_type": "stream",
     "text": [
      "Requirement already satisfied: requests in c:\\gitlabtohub\\.venv\\lib\\site-packages (2.32.3)\n",
      "Requirement already satisfied: charset-normalizer<4,>=2 in c:\\gitlabtohub\\.venv\\lib\\site-packages (from requests) (3.3.2)\n",
      "Requirement already satisfied: idna<4,>=2.5 in c:\\gitlabtohub\\.venv\\lib\\site-packages (from requests) (3.10)\n",
      "Requirement already satisfied: urllib3<3,>=1.21.1 in c:\\gitlabtohub\\.venv\\lib\\site-packages (from requests) (2.2.3)\n",
      "Requirement already satisfied: certifi>=2017.4.17 in c:\\gitlabtohub\\.venv\\lib\\site-packages (from requests) (2024.8.30)\n",
      "Note: you may need to restart the kernel to use updated packages.\n",
      "Requirement already satisfied: PyGithub in c:\\gitlabtohub\\.venv\\lib\\site-packages (2.4.0)\n",
      "Requirement already satisfied: pynacl>=1.4.0 in c:\\gitlabtohub\\.venv\\lib\\site-packages (from PyGithub) (1.5.0)\n",
      "Requirement already satisfied: requests>=2.14.0 in c:\\gitlabtohub\\.venv\\lib\\site-packages (from PyGithub) (2.32.3)\n",
      "Requirement already satisfied: pyjwt>=2.4.0 in c:\\gitlabtohub\\.venv\\lib\\site-packages (from pyjwt[crypto]>=2.4.0->PyGithub) (2.9.0)\n",
      "Requirement already satisfied: typing-extensions>=4.0.0 in c:\\gitlabtohub\\.venv\\lib\\site-packages (from PyGithub) (4.12.2)\n",
      "Requirement already satisfied: urllib3>=1.26.0 in c:\\gitlabtohub\\.venv\\lib\\site-packages (from PyGithub) (2.2.3)\n",
      "Requirement already satisfied: Deprecated in c:\\gitlabtohub\\.venv\\lib\\site-packages (from PyGithub) (1.2.14)\n",
      "Requirement already satisfied: cryptography>=3.4.0 in c:\\gitlabtohub\\.venv\\lib\\site-packages (from pyjwt[crypto]>=2.4.0->PyGithub) (43.0.1)\n",
      "Requirement already satisfied: cffi>=1.4.1 in c:\\gitlabtohub\\.venv\\lib\\site-packages (from pynacl>=1.4.0->PyGithub) (1.17.1)\n",
      "Requirement already satisfied: charset-normalizer<4,>=2 in c:\\gitlabtohub\\.venv\\lib\\site-packages (from requests>=2.14.0->PyGithub) (3.3.2)\n",
      "Requirement already satisfied: idna<4,>=2.5 in c:\\gitlabtohub\\.venv\\lib\\site-packages (from requests>=2.14.0->PyGithub) (3.10)\n",
      "Requirement already satisfied: certifi>=2017.4.17 in c:\\gitlabtohub\\.venv\\lib\\site-packages (from requests>=2.14.0->PyGithub) (2024.8.30)\n",
      "Requirement already satisfied: wrapt<2,>=1.10 in c:\\gitlabtohub\\.venv\\lib\\site-packages (from Deprecated->PyGithub) (1.16.0)\n",
      "Requirement already satisfied: pycparser in c:\\gitlabtohub\\.venv\\lib\\site-packages (from cffi>=1.4.1->pynacl>=1.4.0->PyGithub) (2.22)\n",
      "Note: you may need to restart the kernel to use updated packages.\n",
      "Requirement already satisfied: python-gitlab in c:\\gitlabtohub\\.venv\\lib\\site-packages (4.12.2)Note: you may need to restart the kernel to use updated packages.\n",
      "\n",
      "Requirement already satisfied: requests>=2.32.0 in c:\\gitlabtohub\\.venv\\lib\\site-packages (from python-gitlab) (2.32.3)\n",
      "Requirement already satisfied: requests-toolbelt>=1.0.0 in c:\\gitlabtohub\\.venv\\lib\\site-packages (from python-gitlab) (1.0.0)\n",
      "Requirement already satisfied: charset-normalizer<4,>=2 in c:\\gitlabtohub\\.venv\\lib\\site-packages (from requests>=2.32.0->python-gitlab) (3.3.2)\n",
      "Requirement already satisfied: idna<4,>=2.5 in c:\\gitlabtohub\\.venv\\lib\\site-packages (from requests>=2.32.0->python-gitlab) (3.10)\n",
      "Requirement already satisfied: urllib3<3,>=1.21.1 in c:\\gitlabtohub\\.venv\\lib\\site-packages (from requests>=2.32.0->python-gitlab) (2.2.3)\n",
      "Requirement already satisfied: certifi>=2017.4.17 in c:\\gitlabtohub\\.venv\\lib\\site-packages (from requests>=2.32.0->python-gitlab) (2024.8.30)\n",
      "Requirement already satisfied: gitpython in c:\\gitlabtohub\\.venv\\lib\\site-packages (3.1.43)\n",
      "Requirement already satisfied: gitdb<5,>=4.0.1 in c:\\gitlabtohub\\.venv\\lib\\site-packages (from gitpython) (4.0.11)\n",
      "Requirement already satisfied: smmap<6,>=3.0.1 in c:\\gitlabtohub\\.venv\\lib\\site-packages (from gitdb<5,>=4.0.1->gitpython) (5.0.1)\n",
      "Note: you may need to restart the kernel to use updated packages.\n",
      "Collecting python-dotenv\n",
      "  Using cached python_dotenv-1.0.1-py3-none-any.whl.metadata (23 kB)\n",
      "Using cached python_dotenv-1.0.1-py3-none-any.whl (19 kB)\n",
      "Installing collected packages: python-dotenv\n",
      "Successfully installed python-dotenv-1.0.1\n",
      "Note: you may need to restart the kernel to use updated packages.\n"
     ]
    }
   ],
   "source": [
    "%pip install requests\n",
    "%pip install PyGithub\n",
    "%pip install python-gitlab\n",
    "%pip install gitpython\n",
    "%pip install python-dotenv"
   ]
  },
  {
   "cell_type": "code",
   "execution_count": 105,
   "metadata": {},
   "outputs": [],
   "source": [
    "\n",
    "import requests\n",
    "from github import Github\n",
    "from gitlab import Gitlab\n",
    "from dotenv import load_dotenv\n",
    "import os\n",
    "\n",
    "\n",
    "load_dotenv()\n",
    "\n",
    "# Configuration\n",
    "GITLAB_URL = os.getenv('GITLAB_URL')\n",
    "GITLAB_TOKEN = os.getenv('GITLAB_TOKEN')\n",
    "GITHUB_TOKEN = os.getenv('GITHUB_TOKEN')\n",
    "GITLAB_PROJECT_ID = os.getenv('GITLAB_PROJECT_ID')\n",
    "GITHUB_REPO_NAME = os.getenv('GITHUB_REPO_NAME')\n",
    "\n",
    "# Initialize GitLab and GitHub clients\n",
    "gitlab_client = Gitlab(GITLAB_URL, private_token=GITLAB_TOKEN)\n",
    "github_client = Github(GITHUB_TOKEN)\n",
    "# Get GitLab project\n",
    "gitlab_project = gitlab_client.projects.get(GITLAB_PROJECT_ID)\n",
    "\n",
    "# Create GitHub repository\n",
    "user = github_client.get_user()\n"
   ]
  },
  {
   "cell_type": "code",
   "execution_count": 106,
   "metadata": {},
   "outputs": [
    {
     "name": "stdout",
     "output_type": "stream",
     "text": [
      "Repository mynetcoreproject does not exist or could not be deleted: 404 {\"message\": \"Not Found\", \"documentation_url\": \"https://docs.github.com/rest\", \"status\": \"404\"}\n"
     ]
    }
   ],
   "source": [
    "# Check if the repository already exists and delete it if it does\n",
    "try:\n",
    "    github_repo = github_client.get_repo(GITHUB_REPO_NAME)\n",
    "    github_repo.delete()\n",
    "    print(f\"Deleted existing repository: {GITHUB_REPO_NAME}\")\n",
    "except Exception as e:\n",
    "    print(f\"Repository {GITHUB_REPO_NAME} does not exist or could not be deleted: {e}\")\n",
    "\n",
    "# Create a new GitHub repository\n",
    "github_repo = user.create_repo(GITHUB_REPO_NAME, private=True)\n",
    "repo_url = gitlab_project.http_url_to_repo.replace('https://', f'https://oauth2:{GITLAB_TOKEN}@')\n"
   ]
  },
  {
   "cell_type": "code",
   "execution_count": 107,
   "metadata": {},
   "outputs": [
    {
     "name": "stdout",
     "output_type": "stream",
     "text": [
      "Repository content migrated successfully.\n"
     ]
    }
   ],
   "source": [
    "import os\n",
    "from git import Repo\n",
    "\n",
    "\n",
    "# Migrate repository content\n",
    "# Clone the GitLab repository\n",
    "repo_name = GITLAB_PROJECT_ID.split('/')[-1]\n",
    "if not os.path.exists(repo_name):\n",
    "    Repo.clone_from(repo_url, repo_name, mirror=True)\n",
    "\n",
    "\n",
    "# Push the repository to GitHub\n",
    "github_repo_url = f'https://{GITHUB_TOKEN}@github.com/{user.login}/{GITHUB_REPO_NAME}.git'\n",
    "repo = Repo(repo_name)\n",
    "repo.remotes.origin.set_url(github_repo_url)\n",
    "repo.remotes.origin.push(mirror=True)\n",
    "\n",
    "print(\"Repository content migrated successfully.\")\n"
   ]
  },
  {
   "cell_type": "code",
   "execution_count": 115,
   "metadata": {},
   "outputs": [
    {
     "name": "stdout",
     "output_type": "stream",
     "text": [
      "ivbeljan_microsoft\n",
      "Updated existing pull request: https://github.com/ivbeljan_microsoft/mynetcoreproject/pull/1\n",
      "{'id': 2135348606, 'type': None, 'body': 'requested review from @beljan.ivan', 'attachment': None, 'author': {'id': 2862849, 'username': 'beljan.ivan', 'name': 'Ivan Beljan', 'state': 'active', 'locked': False, 'avatar_url': 'https://secure.gravatar.com/avatar/723bc1dfb00da3be0eb4bfe6366d599eb986e6b10812c95a757ffb62b9be8cb2?s=80&d=identicon', 'web_url': 'https://gitlab.com/beljan.ivan'}, 'created_at': '2024-09-30T09:22:35.283Z', 'updated_at': '2024-09-30T09:22:35.289Z', 'system': True, 'noteable_id': 330826202, 'noteable_type': 'MergeRequest', 'project_id': 62123776, 'resolvable': False, 'confidential': False, 'internal': False, 'imported': False, 'imported_from': 'none', 'noteable_iid': 1, 'commands_changes': {}}\n",
      "{'id': 2135348608, 'type': None, 'body': 'assigned to @beljan.ivan', 'attachment': None, 'author': {'id': 2862849, 'username': 'beljan.ivan', 'name': 'Ivan Beljan', 'state': 'active', 'locked': False, 'avatar_url': 'https://secure.gravatar.com/avatar/723bc1dfb00da3be0eb4bfe6366d599eb986e6b10812c95a757ffb62b9be8cb2?s=80&d=identicon', 'web_url': 'https://gitlab.com/beljan.ivan'}, 'created_at': '2024-09-30T09:22:35.316Z', 'updated_at': '2024-09-30T09:22:35.322Z', 'system': True, 'noteable_id': 330826202, 'noteable_type': 'MergeRequest', 'project_id': 62123776, 'resolvable': False, 'confidential': False, 'internal': False, 'imported': False, 'imported_from': 'none', 'noteable_iid': 1, 'commands_changes': {}}\n",
      "{'id': 2163745414, 'type': 'DiscussionNote', 'body': 'ah pero pero', 'attachment': None, 'author': {'id': 2862849, 'username': 'beljan.ivan', 'name': 'Ivan Beljan', 'state': 'active', 'locked': False, 'avatar_url': 'https://secure.gravatar.com/avatar/723bc1dfb00da3be0eb4bfe6366d599eb986e6b10812c95a757ffb62b9be8cb2?s=80&d=identicon', 'web_url': 'https://gitlab.com/beljan.ivan'}, 'created_at': '2024-10-17T13:20:56.014Z', 'updated_at': '2024-10-17T18:41:05.532Z', 'system': False, 'noteable_id': 330826202, 'noteable_type': 'MergeRequest', 'project_id': 62123776, 'resolvable': True, 'resolved': False, 'resolved_by': None, 'resolved_at': None, 'confidential': False, 'internal': False, 'imported': False, 'imported_from': 'none', 'noteable_iid': 1, 'commands_changes': {}}\n",
      "{'id': 2164447369, 'type': 'DiscussionNote', 'body': 'reply to first one', 'attachment': None, 'author': {'id': 2862849, 'username': 'beljan.ivan', 'name': 'Ivan Beljan', 'state': 'active', 'locked': False, 'avatar_url': 'https://secure.gravatar.com/avatar/723bc1dfb00da3be0eb4bfe6366d599eb986e6b10812c95a757ffb62b9be8cb2?s=80&d=identicon', 'web_url': 'https://gitlab.com/beljan.ivan'}, 'created_at': '2024-10-17T18:41:05.463Z', 'updated_at': '2024-10-17T18:41:05.463Z', 'system': False, 'noteable_id': 330826202, 'noteable_type': 'MergeRequest', 'project_id': 62123776, 'resolvable': True, 'resolved': False, 'resolved_by': None, 'resolved_at': None, 'confidential': False, 'internal': False, 'imported': False, 'imported_from': 'none', 'noteable_iid': 1, 'commands_changes': {}}\n",
      "2420538360\n",
      "{'id': 2164600182, 'type': 'DiscussionNote', 'body': 'third reply', 'attachment': None, 'author': {'id': 2862849, 'username': 'beljan.ivan', 'name': 'Ivan Beljan', 'state': 'active', 'locked': False, 'avatar_url': 'https://secure.gravatar.com/avatar/723bc1dfb00da3be0eb4bfe6366d599eb986e6b10812c95a757ffb62b9be8cb2?s=80&d=identicon', 'web_url': 'https://gitlab.com/beljan.ivan'}, 'created_at': '2024-10-17T20:37:11.792Z', 'updated_at': '2024-10-17T20:37:11.792Z', 'system': False, 'noteable_id': 330826202, 'noteable_type': 'MergeRequest', 'project_id': 62123776, 'resolvable': True, 'resolved': False, 'resolved_by': None, 'resolved_at': None, 'confidential': False, 'internal': False, 'imported': False, 'imported_from': 'none', 'noteable_iid': 1, 'commands_changes': {}}\n",
      "2420538360\n",
      "{'id': 2163745769, 'type': None, 'body': 'Odnela te voda', 'attachment': None, 'author': {'id': 2862849, 'username': 'beljan.ivan', 'name': 'Ivan Beljan', 'state': 'active', 'locked': False, 'avatar_url': 'https://secure.gravatar.com/avatar/723bc1dfb00da3be0eb4bfe6366d599eb986e6b10812c95a757ffb62b9be8cb2?s=80&d=identicon', 'web_url': 'https://gitlab.com/beljan.ivan'}, 'created_at': '2024-10-17T13:21:06.155Z', 'updated_at': '2024-10-17T13:21:06.155Z', 'system': False, 'noteable_id': 330826202, 'noteable_type': 'MergeRequest', 'project_id': 62123776, 'resolvable': False, 'confidential': False, 'internal': False, 'imported': False, 'imported_from': 'none', 'noteable_iid': 1, 'commands_changes': {}}\n",
      "{'id': 2163746030, 'type': None, 'body': 'pored mene zivo', 'attachment': None, 'author': {'id': 2862849, 'username': 'beljan.ivan', 'name': 'Ivan Beljan', 'state': 'active', 'locked': False, 'avatar_url': 'https://secure.gravatar.com/avatar/723bc1dfb00da3be0eb4bfe6366d599eb986e6b10812c95a757ffb62b9be8cb2?s=80&d=identicon', 'web_url': 'https://gitlab.com/beljan.ivan'}, 'created_at': '2024-10-17T13:21:13.149Z', 'updated_at': '2024-10-17T13:21:13.149Z', 'system': False, 'noteable_id': 330826202, 'noteable_type': 'MergeRequest', 'project_id': 62123776, 'resolvable': False, 'confidential': False, 'internal': False, 'imported': False, 'imported_from': 'none', 'noteable_iid': 1, 'commands_changes': {}}\n",
      "{'id': 2163746242, 'type': None, 'body': 'sta ce njemu ona', 'attachment': None, 'author': {'id': 2862849, 'username': 'beljan.ivan', 'name': 'Ivan Beljan', 'state': 'active', 'locked': False, 'avatar_url': 'https://secure.gravatar.com/avatar/723bc1dfb00da3be0eb4bfe6366d599eb986e6b10812c95a757ffb62b9be8cb2?s=80&d=identicon', 'web_url': 'https://gitlab.com/beljan.ivan'}, 'created_at': '2024-10-17T13:21:19.570Z', 'updated_at': '2024-10-17T13:21:19.570Z', 'system': False, 'noteable_id': 330826202, 'noteable_type': 'MergeRequest', 'project_id': 62123776, 'resolvable': False, 'confidential': False, 'internal': False, 'imported': False, 'imported_from': 'none', 'noteable_iid': 1, 'commands_changes': {}}\n",
      "Migration completed successfully.\n"
     ]
    }
   ],
   "source": [
    "# Migrate open pull requests\n",
    "import json\n",
    "merge_requests = gitlab_project.mergerequests.list(state='opened')\n",
    "with open('usermapping.json', 'r') as file:\n",
    "    username_mapping = json.load(file)\n",
    "for mr in merge_requests:\n",
    "    # Get the author email from the merge request\n",
    "    githubuser = username_mapping.get(mr.author['username'])\n",
    "    print(githubuser)\n",
    "    # Create the pull request on GitHub\n",
    "\n",
    "   \n",
    "    # Check if the pull request already exists\n",
    "    existing_prs = github_repo.get_pulls(state='open', head=f\"{user.login}:{mr.source_branch}\", base=mr.target_branch)\n",
    "    if existing_prs.totalCount > 0:\n",
    "        github_pr = existing_prs[0]\n",
    "        github_pr.edit(title=mr.title, body=mr.description)\n",
    "        print(f\"Updated existing pull request: {github_pr.html_url}\")\n",
    "    else:\n",
    "        # Create the pull request on GitHub\n",
    "        github_pr = github_repo.create_pull(\n",
    "            title=mr.title,\n",
    "            body=mr.description,\n",
    "            head=mr.source_branch,\n",
    "            base=mr.target_branch,\n",
    "            maintainer_can_modify=True\n",
    "        )\n",
    "        print(f\"Created new pull request: {github_pr.html_url}\")\n",
    "    # Migrate comments  \n",
    "    discussions = mr.discussions.list()  \n",
    "    for discussion in discussions:  \n",
    "        first_comment = True \n",
    "        first_comment_id = None \n",
    "        f_comment_obj = None\n",
    "        for note in discussion.attributes['notes']: \n",
    "            print(note) \n",
    "            author_name = note[\"author\"]['name']  \n",
    "            author_username = note[\"author\"]['username']  \n",
    "            comment_body = note['body']  \n",
    "            if first_comment:  \n",
    "                # Create the initial comment  \n",
    "                comment = github_pr.create_issue_comment(f\"{author_name} ({author_username}): {comment_body}\")  \n",
    "                first_comment = False\n",
    "                first_comment_id = comment.id  \n",
    "                f_comment_obj = comment_body\n",
    "\n",
    "            else:  \n",
    "                # Reply to the previous comment  \n",
    "                print(first_comment_id)\n",
    "                reply_body = f\"> {f_comment_obj} \\n\\n {comment_body}\"  \n",
    "                comment = github_pr.create_issue_comment(body=reply_body)\n",
    "  \n",
    "print(\"Migration completed successfully.\") "
   ]
  },
  {
   "cell_type": "code",
   "execution_count": 104,
   "metadata": {},
   "outputs": [
    {
     "name": "stdout",
     "output_type": "stream",
     "text": [
      "2420468416\n"
     ]
    },
    {
     "ename": "GithubException",
     "evalue": "404 {\"message\": \"Parent comment not found\", \"documentation_url\": \"https://docs.github.com/rest/pulls/comments#create-a-reply-for-a-review-comment\", \"status\": \"404\"}",
     "output_type": "error",
     "traceback": [
      "\u001b[1;31m---------------------------------------------------------------------------\u001b[0m",
      "\u001b[1;31mGithubException\u001b[0m                           Traceback (most recent call last)",
      "Cell \u001b[1;32mIn[104], line 3\u001b[0m\n\u001b[0;32m      1\u001b[0m \u001b[38;5;28mprint\u001b[39m(first_comment_id)\n\u001b[0;32m      2\u001b[0m \u001b[38;5;66;03m#cooment = github_pr.get_comment(2420468416)\u001b[39;00m\n\u001b[1;32m----> 3\u001b[0m comment \u001b[38;5;241m=\u001b[39m \u001b[43mgithub_pr\u001b[49m\u001b[38;5;241;43m.\u001b[39;49m\u001b[43mcreate_review_comment_reply\u001b[49m\u001b[43m(\u001b[49m\u001b[38;5;241;43m2420468416\u001b[39;49m\u001b[43m,\u001b[49m\u001b[43m \u001b[49m\u001b[38;5;124;43m\"\u001b[39;49m\u001b[38;5;124;43mtest\u001b[39;49m\u001b[38;5;124;43m\"\u001b[39;49m\u001b[43m)\u001b[49m\n\u001b[0;32m      4\u001b[0m \u001b[38;5;28mprint\u001b[39m(comment)\n",
      "File \u001b[1;32mc:\\GitLabToHub\\.venv\\Lib\\site-packages\\github\\PullRequest.py:461\u001b[0m, in \u001b[0;36mPullRequest.create_review_comment_reply\u001b[1;34m(self, comment_id, body)\u001b[0m\n\u001b[0;32m    459\u001b[0m \u001b[38;5;28;01massert\u001b[39;00m \u001b[38;5;28misinstance\u001b[39m(body, \u001b[38;5;28mstr\u001b[39m), body\n\u001b[0;32m    460\u001b[0m post_parameters \u001b[38;5;241m=\u001b[39m {\u001b[38;5;124m\"\u001b[39m\u001b[38;5;124mbody\u001b[39m\u001b[38;5;124m\"\u001b[39m: body}\n\u001b[1;32m--> 461\u001b[0m headers, data \u001b[38;5;241m=\u001b[39m \u001b[38;5;28;43mself\u001b[39;49m\u001b[38;5;241;43m.\u001b[39;49m\u001b[43m_requester\u001b[49m\u001b[38;5;241;43m.\u001b[39;49m\u001b[43mrequestJsonAndCheck\u001b[49m\u001b[43m(\u001b[49m\n\u001b[0;32m    462\u001b[0m \u001b[43m    \u001b[49m\u001b[38;5;124;43m\"\u001b[39;49m\u001b[38;5;124;43mPOST\u001b[39;49m\u001b[38;5;124;43m\"\u001b[39;49m\u001b[43m,\u001b[49m\n\u001b[0;32m    463\u001b[0m \u001b[43m    \u001b[49m\u001b[38;5;124;43mf\u001b[39;49m\u001b[38;5;124;43m\"\u001b[39;49m\u001b[38;5;132;43;01m{\u001b[39;49;00m\u001b[38;5;28;43mself\u001b[39;49m\u001b[38;5;241;43m.\u001b[39;49m\u001b[43murl\u001b[49m\u001b[38;5;132;43;01m}\u001b[39;49;00m\u001b[38;5;124;43m/comments/\u001b[39;49m\u001b[38;5;132;43;01m{\u001b[39;49;00m\u001b[43mcomment_id\u001b[49m\u001b[38;5;132;43;01m}\u001b[39;49;00m\u001b[38;5;124;43m/replies\u001b[39;49m\u001b[38;5;124;43m\"\u001b[39;49m\u001b[43m,\u001b[49m\n\u001b[0;32m    464\u001b[0m \u001b[43m    \u001b[49m\u001b[38;5;28;43minput\u001b[39;49m\u001b[38;5;241;43m=\u001b[39;49m\u001b[43mpost_parameters\u001b[49m\u001b[43m,\u001b[49m\n\u001b[0;32m    465\u001b[0m \u001b[43m\u001b[49m\u001b[43m)\u001b[49m\n\u001b[0;32m    466\u001b[0m \u001b[38;5;28;01mreturn\u001b[39;00m github\u001b[38;5;241m.\u001b[39mPullRequestComment\u001b[38;5;241m.\u001b[39mPullRequestComment(\u001b[38;5;28mself\u001b[39m\u001b[38;5;241m.\u001b[39m_requester, headers, data, completed\u001b[38;5;241m=\u001b[39m\u001b[38;5;28;01mTrue\u001b[39;00m)\n",
      "File \u001b[1;32mc:\\GitLabToHub\\.venv\\Lib\\site-packages\\github\\Requester.py:550\u001b[0m, in \u001b[0;36mRequester.requestJsonAndCheck\u001b[1;34m(self, verb, url, parameters, headers, input)\u001b[0m\n\u001b[0;32m    542\u001b[0m \u001b[38;5;28;01mdef\u001b[39;00m \u001b[38;5;21mrequestJsonAndCheck\u001b[39m(\n\u001b[0;32m    543\u001b[0m     \u001b[38;5;28mself\u001b[39m,\n\u001b[0;32m    544\u001b[0m     verb: \u001b[38;5;28mstr\u001b[39m,\n\u001b[1;32m   (...)\u001b[0m\n\u001b[0;32m    548\u001b[0m     \u001b[38;5;28minput\u001b[39m: Optional[Any] \u001b[38;5;241m=\u001b[39m \u001b[38;5;28;01mNone\u001b[39;00m,\n\u001b[0;32m    549\u001b[0m ) \u001b[38;5;241m-\u001b[39m\u001b[38;5;241m>\u001b[39m Tuple[Dict[\u001b[38;5;28mstr\u001b[39m, Any], Any]:\n\u001b[1;32m--> 550\u001b[0m     \u001b[38;5;28;01mreturn\u001b[39;00m \u001b[38;5;28;43mself\u001b[39;49m\u001b[38;5;241;43m.\u001b[39;49m\u001b[43m__check\u001b[49m\u001b[43m(\u001b[49m\u001b[38;5;241;43m*\u001b[39;49m\u001b[38;5;28;43mself\u001b[39;49m\u001b[38;5;241;43m.\u001b[39;49m\u001b[43mrequestJson\u001b[49m\u001b[43m(\u001b[49m\u001b[43mverb\u001b[49m\u001b[43m,\u001b[49m\u001b[43m \u001b[49m\u001b[43murl\u001b[49m\u001b[43m,\u001b[49m\u001b[43m \u001b[49m\u001b[43mparameters\u001b[49m\u001b[43m,\u001b[49m\u001b[43m \u001b[49m\u001b[43mheaders\u001b[49m\u001b[43m,\u001b[49m\u001b[43m \u001b[49m\u001b[38;5;28;43minput\u001b[39;49m\u001b[43m,\u001b[49m\u001b[43m \u001b[49m\u001b[38;5;28;43mself\u001b[39;49m\u001b[38;5;241;43m.\u001b[39;49m\u001b[43m__customConnection\u001b[49m\u001b[43m(\u001b[49m\u001b[43murl\u001b[49m\u001b[43m)\u001b[49m\u001b[43m)\u001b[49m\u001b[43m)\u001b[49m\n",
      "File \u001b[1;32mc:\\GitLabToHub\\.venv\\Lib\\site-packages\\github\\Requester.py:611\u001b[0m, in \u001b[0;36mRequester.__check\u001b[1;34m(self, status, responseHeaders, output)\u001b[0m\n\u001b[0;32m    609\u001b[0m data \u001b[38;5;241m=\u001b[39m \u001b[38;5;28mself\u001b[39m\u001b[38;5;241m.\u001b[39m__structuredFromJson(output)\n\u001b[0;32m    610\u001b[0m \u001b[38;5;28;01mif\u001b[39;00m status \u001b[38;5;241m>\u001b[39m\u001b[38;5;241m=\u001b[39m \u001b[38;5;241m400\u001b[39m:\n\u001b[1;32m--> 611\u001b[0m     \u001b[38;5;28;01mraise\u001b[39;00m \u001b[38;5;28mself\u001b[39m\u001b[38;5;241m.\u001b[39mcreateException(status, responseHeaders, data)\n\u001b[0;32m    612\u001b[0m \u001b[38;5;28;01mreturn\u001b[39;00m responseHeaders, data\n",
      "\u001b[1;31mGithubException\u001b[0m: 404 {\"message\": \"Parent comment not found\", \"documentation_url\": \"https://docs.github.com/rest/pulls/comments#create-a-reply-for-a-review-comment\", \"status\": \"404\"}"
     ]
    }
   ],
   "source": [
    "print(first_comment_id)\n",
    "#cooment = github_pr.get_comment(2420468416)\n",
    "comment = github_pr.create_review_comment_reply(2420468416, \"test\")\n",
    "print(comment)"
   ]
  }
 ],
 "metadata": {
  "kernelspec": {
   "display_name": ".venv",
   "language": "python",
   "name": "python3"
  },
  "language_info": {
   "codemirror_mode": {
    "name": "ipython",
    "version": 3
   },
   "file_extension": ".py",
   "mimetype": "text/x-python",
   "name": "python",
   "nbconvert_exporter": "python",
   "pygments_lexer": "ipython3",
   "version": "3.11.9"
  }
 },
 "nbformat": 4,
 "nbformat_minor": 2
}
